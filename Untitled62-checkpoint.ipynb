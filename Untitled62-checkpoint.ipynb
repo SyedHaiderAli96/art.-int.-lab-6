{
 "cells": [
  {
   "cell_type": "code",
   "execution_count": 2,
   "id": "4c0810d5-85f7-49ba-995b-065b612c5ffd",
   "metadata": {},
   "outputs": [
    {
     "name": "stdout",
     "output_type": "stream",
     "text": [
      "Clusters: [1 0 1 0 0 0 1 0]\n",
      "Cluster Centers: [[7.         5.4        3.8       ]\n",
      " [0.66666667 1.         1.33333333]]\n"
     ]
    },
    {
     "name": "stderr",
     "output_type": "stream",
     "text": [
      "C:\\Users\\ABC\\anaconda3\\Lib\\site-packages\\sklearn\\cluster\\_kmeans.py:1429: UserWarning: KMeans is known to have a memory leak on Windows with MKL, when there are less chunks than available threads. You can avoid it by setting the environment variable OMP_NUM_THREADS=1.\n",
      "  warnings.warn(\n"
     ]
    }
   ],
   "source": [
    "import numpy as np\n",
    "from sklearn.cluster import KMeans  # Import KMeans from sklearn.cluster\n",
    "\n",
    "# Sample dataset (X, Y, Z coordinates)\n",
    "data = np.array([\n",
    "    [1, 2, 3],\n",
    "    [5, 4, 2],\n",
    "    [1, 0, 1],\n",
    "    [6, 8, 7],\n",
    "    [9, 7, 3],\n",
    "    [8, 2, 2],\n",
    "    [0, 1, 0],\n",
    "    [7, 6, 5]\n",
    "])\n",
    "\n",
    "# Apply K-Means with K=2\n",
    "kmeans_2 = KMeans(n_clusters=2)\n",
    "kmeans_2.fit(data)\n",
    "clusters = kmeans_2.predict(data)\n",
    "\n",
    "# Print clusters and centroids\n",
    "print(\"Clusters:\", clusters)\n",
    "print(\"Cluster Centers:\", kmeans_2.cluster_centers_)\n"
   ]
  },
  {
   "cell_type": "code",
   "execution_count": null,
   "id": "2a89fda8-d5c4-47e4-b5f9-127e3d2f4d6d",
   "metadata": {},
   "outputs": [],
   "source": []
  }
 ],
 "metadata": {
  "kernelspec": {
   "display_name": "Python 3 (ipykernel)",
   "language": "python",
   "name": "python3"
  },
  "language_info": {
   "codemirror_mode": {
    "name": "ipython",
    "version": 3
   },
   "file_extension": ".py",
   "mimetype": "text/x-python",
   "name": "python",
   "nbconvert_exporter": "python",
   "pygments_lexer": "ipython3",
   "version": "3.11.7"
  }
 },
 "nbformat": 4,
 "nbformat_minor": 5
}
